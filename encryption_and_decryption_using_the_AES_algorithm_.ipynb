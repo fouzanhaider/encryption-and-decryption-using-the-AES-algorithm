{
  "nbformat": 4,
  "nbformat_minor": 0,
  "metadata": {
    "colab": {
      "provenance": [],
      "authorship_tag": "ABX9TyNmIKatVcuy2L+YPulBRsDE",
      "include_colab_link": true
    },
    "kernelspec": {
      "name": "python3",
      "display_name": "Python 3"
    },
    "language_info": {
      "name": "python"
    }
  },
  "cells": [
    {
      "cell_type": "markdown",
      "metadata": {
        "id": "view-in-github",
        "colab_type": "text"
      },
      "source": [
        "<a href=\"https://colab.research.google.com/github/fouzanhaider/encryption-and-decryption-using-the-AES-algorithm/blob/main/encryption_and_decryption_using_the_AES_algorithm_.ipynb\" target=\"_parent\"><img src=\"https://colab.research.google.com/assets/colab-badge.svg\" alt=\"Open In Colab\"/></a>"
      ]
    },
    {
      "cell_type": "code",
      "source": [
        "!pip install pycryptodome\n",
        "\n",
        "from Crypto.Cipher import AES\n",
        "from Crypto.Random import get_random_bytes\n",
        "from Crypto.Util.Padding import pad, unpad\n",
        "\n",
        "# Encrypt function\n",
        "def encrypt_message(key, data):\n",
        "    cipher = AES.new(key, AES.MODE_CBC)\n",
        "    ct_bytes = cipher.encrypt(pad(data.encode('utf-8'), AES.block_size))\n",
        "    iv = cipher.iv\n",
        "    return iv + ct_bytes\n",
        "\n",
        "# Decrypt function\n",
        "def decrypt_message(key, ct):\n",
        "    iv = ct[:AES.block_size]\n",
        "    ct_bytes = ct[AES.block_size:]\n",
        "    cipher = AES.new(key, AES.MODE_CBC, iv)\n",
        "    pt = unpad(cipher.decrypt(ct_bytes), AES.block_size)\n",
        "    return pt.decode('utf-8')\n",
        "\n",
        "# Key management\n",
        "key = get_random_bytes(16)  # AES-128\n",
        "\n",
        "# Get the message from the user\n",
        "message = input(\"Enter a message to encrypt: \")\n",
        "\n",
        "# Encryption\n",
        "ciphertext = encrypt_message(key, message)\n",
        "print(f\"Encrypted message (ciphertext): {ciphertext}\")\n",
        "\n",
        "# Decryption\n",
        "decrypted_message = decrypt_message(key, ciphertext)\n",
        "print(f\"Decrypted message: {decrypted_message}\")\n"
      ],
      "metadata": {
        "colab": {
          "base_uri": "https://localhost:8080/"
        },
        "id": "X9-4TcTqnH0e",
        "outputId": "a6316506-d404-499d-b25d-90d4dce7aea7"
      },
      "execution_count": 3,
      "outputs": [
        {
          "output_type": "stream",
          "name": "stdout",
          "text": [
            "Requirement already satisfied: pycryptodome in /usr/local/lib/python3.10/dist-packages (3.21.0)\n",
            "Enter a message to encrypt: how are you\n",
            "Encrypted message (ciphertext): b'S\\xd5=\\xc2r\\xba\\xe2\\x03I\\xfaa\\x01\\r`)\\xe8\\xee\\x02\\xc4U\\x9a\\xa6G\\xbd}\\xd2\\x02\\xc1\\xff\\xaa\\xc5I'\n",
            "Decrypted message: how are you\n"
          ]
        }
      ]
    }
  ]
}